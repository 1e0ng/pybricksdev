{
 "cells": [
  {
   "cell_type": "code",
   "execution_count": 1,
   "metadata": {},
   "outputs": [],
   "source": [
    "from pybricksdev.connections import PybricksHub\n",
    "from pybricksdev.ble import find_device, nus\n",
    "from asyncio import gather, sleep\n",
    "import logging"
   ]
  },
  {
   "cell_type": "code",
   "execution_count": 2,
   "metadata": {},
   "outputs": [
    {
     "name": "stdout",
     "output_type": "stream",
     "text": [
      "Searching for Pybricks Hub\n"
     ]
    }
   ],
   "source": [
    "hub = PybricksHub()\n",
    "address = await find_device('Pybricks Hub')\n",
    "await hub.connect(address)   \n"
   ]
  },
  {
   "cell_type": "code",
   "execution_count": 3,
   "metadata": {},
   "outputs": [
    {
     "name": "stdout",
     "output_type": "stream",
     "text": [
      "Overwriting _pup.py\n"
     ]
    }
   ],
   "source": [
    "%%file _pup.py\n",
    "\n",
    "from usys import stdin\n",
    "from uselect import poll\n",
    "\n",
    "# Register the standard input so we can read keyboard presses.\n",
    "keyboard = poll()\n",
    "keyboard.register(stdin)\n",
    "\n",
    "while True:\n",
    "    # Check if a key has been pressed.\n",
    "    if keyboard.poll(0):\n",
    "\n",
    "        # Read the key and print it.\n",
    "        key = stdin.read(1)\n",
    "        print(\"You pressed:\", key)\n"
   ]
  },
  {
   "cell_type": "code",
   "execution_count": 4,
   "metadata": {},
   "outputs": [],
   "source": [
    "async def send_data(hub):\n",
    "    \n",
    "    await sleep(1)\n",
    "    await hub.client.write_gatt_char(nus.NUS_RX_UUID, bytearray(b\"HELLO!\"), True)"
   ]
  },
  {
   "cell_type": "code",
   "execution_count": null,
   "metadata": {},
   "outputs": [
    {
     "data": {
      "application/vnd.jupyter.widget-view+json": {
       "model_id": "c2d6d75f92d34d28a718b35ae4d08a29",
       "version_major": 2,
       "version_minor": 0
      },
      "text/plain": [
       "  0%|          | 0.00/156 [00:00<?, ?B/s]"
      ]
     },
     "metadata": {},
     "output_type": "display_data"
    },
    {
     "name": "stdout",
     "output_type": "stream",
     "text": [
      "You pressed: H\n",
      "You pressed: E\n",
      "You pressed: L\n",
      "You pressed: L\n",
      "You pressed: O\n",
      "You pressed: !\n"
     ]
    }
   ],
   "source": [
    "result = await gather(hub.run('_pup.py'), send_data(hub))"
   ]
  },
  {
   "cell_type": "code",
   "execution_count": null,
   "metadata": {},
   "outputs": [],
   "source": [
    "await hub.disconnect()"
   ]
  }
 ],
 "metadata": {
  "kernelspec": {
   "display_name": "Python 3",
   "language": "python",
   "name": "python3"
  },
  "language_info": {
   "codemirror_mode": {
    "name": "ipython",
    "version": 3
   },
   "file_extension": ".py",
   "mimetype": "text/x-python",
   "name": "python",
   "nbconvert_exporter": "python",
   "pygments_lexer": "ipython3",
   "version": "3.8.2"
  }
 },
 "nbformat": 4,
 "nbformat_minor": 4
}
