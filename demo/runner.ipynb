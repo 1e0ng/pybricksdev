{
 "cells": [
  {
   "cell_type": "code",
   "execution_count": null,
   "metadata": {},
   "outputs": [],
   "source": [
    "from pybricksdev.run import PybricksHubConnection\n",
    "from pybricksdev.compile import compile_file\n",
    "from pybricksdev.connections import find_ble_device, EV3Connection\n",
    "from asyncio import gather"
   ]
  },
  {
   "cell_type": "code",
   "execution_count": null,
   "metadata": {},
   "outputs": [],
   "source": [
    "# Use ESC, then CTRL+Q to run all cells without resetting the kernel\n",
    "# This preserves the existing connections so scripts start very quickly\n",
    "\n",
    "try:\n",
    "    ev3\n",
    "except:\n",
    "    ev3 = EV3Connection()\n",
    "    await ev3.connect('192.168.133.101')\n",
    "\n",
    "try:\n",
    "    hub\n",
    "except:\n",
    "#     address = await find_ble_device('Pybricks Hub', timeout=5)\n",
    "    address ='90:84:2B:4A:2B:75'\n",
    "    hub = PybricksHubConnection()\n",
    "    await hub.connect(address)"
   ]
  },
  {
   "cell_type": "code",
   "execution_count": null,
   "metadata": {},
   "outputs": [],
   "source": [
    "%%file _ev3.py\n",
    "\n",
    "print(\"hi from ev3\")"
   ]
  },
  {
   "cell_type": "code",
   "execution_count": null,
   "metadata": {},
   "outputs": [],
   "source": [
    "%%file _pup.py\n",
    "\n",
    "print(\"hi from control+\")\n"
   ]
  },
  {
   "cell_type": "code",
   "execution_count": null,
   "metadata": {},
   "outputs": [],
   "source": [
    "await gather(hub.download_and_run(compile_file('_pup.py')), ev3.pybricks('_ev3.py'))"
   ]
  },
  {
   "cell_type": "code",
   "execution_count": null,
   "metadata": {},
   "outputs": [],
   "source": [
    "await ev3.get('_ev3.py')"
   ]
  }
 ],
 "metadata": {
  "kernelspec": {
   "display_name": "Python 3",
   "language": "python",
   "name": "python3"
  },
  "language_info": {
   "codemirror_mode": {
    "name": "ipython",
    "version": 3
   },
   "file_extension": ".py",
   "mimetype": "text/x-python",
   "name": "python",
   "nbconvert_exporter": "python",
   "pygments_lexer": "ipython3",
   "version": "3.8.2"
  }
 },
 "nbformat": 4,
 "nbformat_minor": 4
}
