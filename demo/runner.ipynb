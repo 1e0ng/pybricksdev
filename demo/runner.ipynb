{
 "cells": [
  {
   "cell_type": "code",
   "execution_count": null,
   "metadata": {},
   "outputs": [],
   "source": [
    "from pybricksdev.connections import EV3Connection, PUPConnection\n",
    "from pybricksdev.ble import find_device\n",
    "from asyncio import gather"
   ]
  },
  {
   "cell_type": "code",
   "execution_count": null,
   "metadata": {},
   "outputs": [],
   "source": [
    "# Go to help > Edit Keyboard Shortcuts to bind \"run all cells\" to your favorite key.\n",
    "# This way you can easily run all cells again without resetting the kernel.\n",
    "# That way, your hubs stay connected so that programs runs quickly.\n",
    "\n",
    "try:\n",
    "    ev3, hub\n",
    "except:\n",
    "    ev3 = EV3Connection()\n",
    "    await ev3.connect('192.168.133.101')\n",
    "    \n",
    "    hub = BLEPUPConnection()\n",
    "    address = await find_device('Pybricks Hub', timeout=5)\n",
    "    await hub.connect(address)"
   ]
  },
  {
   "cell_type": "code",
   "execution_count": null,
   "metadata": {},
   "outputs": [],
   "source": [
    "%%file _ev3.py\n",
    "\n",
    "print(\"hi from ev3\")"
   ]
  },
  {
   "cell_type": "code",
   "execution_count": null,
   "metadata": {},
   "outputs": [],
   "source": [
    "%%file _pup.py\n",
    "\n",
    "print(\"hi from control+\")\n"
   ]
  },
  {
   "cell_type": "code",
   "execution_count": null,
   "metadata": {},
   "outputs": [],
   "source": [
    "await gather(hub.run('_pup.py'), ev3.run('_ev3.py'))"
   ]
  },
  {
   "cell_type": "code",
   "execution_count": null,
   "metadata": {},
   "outputs": [],
   "source": [
    "await ev3.get('_ev3.py')"
   ]
  },
  {
   "cell_type": "code",
   "execution_count": null,
   "metadata": {},
   "outputs": [],
   "source": []
  }
 ],
 "metadata": {
  "kernelspec": {
   "display_name": "Python 3",
   "language": "python",
   "name": "python3"
  },
  "language_info": {
   "codemirror_mode": {
    "name": "ipython",
    "version": 3
   },
   "file_extension": ".py",
   "mimetype": "text/x-python",
   "name": "python",
   "nbconvert_exporter": "python",
   "pygments_lexer": "ipython3",
   "version": "3.8.2"
  }
 },
 "nbformat": 4,
 "nbformat_minor": 4
}
